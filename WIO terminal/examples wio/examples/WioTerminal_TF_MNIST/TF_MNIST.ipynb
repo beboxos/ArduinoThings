{
 "cells": [
  {
   "cell_type": "code",
   "execution_count": 2,
   "metadata": {},
   "outputs": [],
   "source": [
    "import tensorflow as tf\n",
    "from tensorflow.python.keras.models import Sequential\n",
    "from tensorflow.python.keras.layers import Dense, Flatten\n",
    "\n",
    "# modules for plotting in this notebook\n",
    "import numpy as np\n",
    "import matplotlib.pyplot as plt\n",
    "import random"
   ]
  },
  {
   "cell_type": "code",
   "execution_count": 3,
   "metadata": {},
   "outputs": [
    {
     "data": {
      "text/plain": [
       "'2.3.0'"
      ]
     },
     "execution_count": 3,
     "metadata": {},
     "output_type": "execute_result"
    }
   ],
   "source": [
    "tf.__version__\n"
   ]
  },
  {
   "cell_type": "code",
   "execution_count": 4,
   "metadata": {},
   "outputs": [
    {
     "name": "stdout",
     "output_type": "stream",
     "text": [
      "x_train shape (60000, 28, 28)\n",
      "y_train shape (60000,)\n",
      "x_test shape (10000, 28, 28)\n",
      "y_test shape (10000,)\n"
     ]
    }
   ],
   "source": [
    "(x_train, y_train), (x_test, y_test) = tf.keras.datasets.mnist.load_data()\n",
    "\n",
    "# 60,000 training data and 10,000 test data of 28x28 pixel images\n",
    "print(\"x_train shape\", x_train.shape)\n",
    "print(\"y_train shape\", y_train.shape)\n",
    "print(\"x_test shape\", x_test.shape)\n",
    "print(\"y_test shape\", y_test.shape)"
   ]
  },
  {
   "cell_type": "code",
   "execution_count": 5,
   "metadata": {},
   "outputs": [
    {
     "data": {
      "image/png": "[encoded data removed]",
      "text/plain": [
       "<Figure size 648x648 with 9 Axes>"
      ]
     },
     "metadata": {
      "needs_background": "light"
     },
     "output_type": "display_data"
    }
   ],
   "source": [
    "fig = plt.figure(figsize=(9,9))\n",
    "\n",
    "for i in range(9):\n",
    "  plt.subplot(3,3,i+1)\n",
    "  num = random.randint(0, len(x_train))\n",
    "  plt.imshow(x_train[num], cmap=\"gray\", interpolation=None)\n",
    "  plt.title(y_train[num])\n",
    "\n",
    "plt.tight_layout()"
   ]
  },
  {
   "cell_type": "code",
   "execution_count": 9,
   "metadata": {},
   "outputs": [],
   "source": [
    "# Create a model with a 28x28 pixel input vector\n",
    "#    -> 1 hidden layer of 64 nodes\n",
    "#    -> 10 categories of outputs (digits 0-9)\n",
    "def create_model():\n",
    "  model = Sequential()\n",
    "  model.add(Flatten(input_shape=(28*28,)))\n",
    "  model.add(Dense(64, activation=\"relu\"))\n",
    "  model.add(Dense(10, activation=\"softmax\"))\n",
    "  model.compile(loss=\"categorical_crossentropy\", optimizer=\"adam\", metrics=[\"accuracy\"])\n",
    "  return model"
   ]
  },
  {
   "cell_type": "code",
   "execution_count": 10,
   "metadata": {},
   "outputs": [
    {
     "name": "stdout",
     "output_type": "stream",
     "text": [
      "Model: \"sequential\"\n",
      "_________________________________________________________________\n",
      "Layer (type)                 Output Shape              Param #   \n",
      "=================================================================\n",
      "flatten (Flatten)            (None, 784)               0         \n",
      "_________________________________________________________________\n",
      "dense (Dense)                (None, 64)                50240     \n",
      "_________________________________________________________________\n",
      "dense_1 (Dense)              (None, 10)                650       \n",
      "=================================================================\n",
      "Total params: 50,890\n",
      "Trainable params: 50,890\n",
      "Non-trainable params: 0\n",
      "_________________________________________________________________\n"
     ]
    }
   ],
   "source": [
    "model = create_model()\n",
    "model.summary()"
   ]
  },
  {
   "cell_type": "code",
   "execution_count": 11,
   "metadata": {},
   "outputs": [
    {
     "name": "stdout",
     "output_type": "stream",
     "text": [
      "x_train shape (60000, 784)\n",
      "y_train shape (60000, 10)\n"
     ]
    }
   ],
   "source": [
    "x_train = x_train.reshape(60000, 28*28)\n",
    "x_test = x_test.reshape(10000, 28*28)\n",
    "x_train = x_train.astype(\"float32\")\n",
    "x_test = x_test.astype(\"float32\")\n",
    "x_train /= 255\n",
    "x_test /= 255\n",
    "\n",
    "y_train = tf.keras.utils.to_categorical(y_train, 10)\n",
    "y_test = tf.keras.utils.to_categorical(y_test, 10)\n",
    "\n",
    "print(\"x_train shape\", x_train.shape)\n",
    "print(\"y_train shape\", y_train.shape)"
   ]
  },
  {
   "cell_type": "code",
   "execution_count": 12,
   "metadata": {},
   "outputs": [
    {
     "name": "stdout",
     "output_type": "stream",
     "text": [
      "Epoch 1/5\n",
      "469/469 [==============================] - 0s 1ms/step - loss: 0.4169 - accuracy: 0.8867\n",
      "Epoch 2/5\n",
      "469/469 [==============================] - 0s 1ms/step - loss: 0.2035 - accuracy: 0.9416\n",
      "Epoch 3/5\n",
      "469/469 [==============================] - 0s 1ms/step - loss: 0.1543 - accuracy: 0.9561\n",
      "Epoch 4/5\n",
      "469/469 [==============================] - 1s 1ms/step - loss: 0.1246 - accuracy: 0.9640\n",
      "Epoch 5/5\n",
      "469/469 [==============================] - 1s 1ms/step - loss: 0.1052 - accuracy: 0.9698\n",
      "313/313 - 0s - loss: 0.1100 - accuracy: 0.9683\n",
      "Test Loss: 0.11004432290792465\n",
      "Test Accuracy: 0.9682999849319458\n"
     ]
    }
   ],
   "source": [
    "model.fit(x=x_train, y=y_train, batch_size=128, epochs=5, verbose=1)\n",
    "\n",
    "scores = model.evaluate(x_test, y_test, verbose=2)\n",
    "print(\"Test Loss:\", scores[0])\n",
    "print(\"Test Accuracy:\", scores[1])\n",
    "\n",
    "model.save(\"mnist.h5\")"
   ]
  },
  {
   "cell_type": "code",
   "execution_count": 13,
   "metadata": {},
   "outputs": [
    {
     "name": "stdout",
     "output_type": "stream",
     "text": [
      "WARNING:tensorflow:From /home/baozhu/.local/lib/python3.7/site-packages/tensorflow/python/training/tracking/tracking.py:111: Model.state_updates (from tensorflow.python.keras.engine.training) is deprecated and will be removed in a future version.\n",
      "Instructions for updating:\n",
      "This property should not be used in TensorFlow 2.0, as updates are applied automatically.\n",
      "WARNING:tensorflow:From /home/baozhu/.local/lib/python3.7/site-packages/tensorflow/python/training/tracking/tracking.py:111: Layer.updates (from tensorflow.python.keras.engine.base_layer) is deprecated and will be removed in a future version.\n",
      "Instructions for updating:\n",
      "This property should not be used in TensorFlow 2.0, as updates are applied automatically.\n",
      "INFO:tensorflow:Assets written to: /tmp/tmpa6jf0xmt/assets\n"
     ]
    },
    {
     "data": {
      "text/plain": [
       "205140"
      ]
     },
     "execution_count": 13,
     "metadata": {},
     "output_type": "execute_result"
    }
   ],
   "source": [
    "mnist_sampleset = tf.data.Dataset.from_tensor_slices((x_test)).batch(1)\n",
    "def representative_dataset_gen():\n",
    "    for input_value in mnist_sampleset.take(100):\n",
    "        yield [input_value]\n",
    "\n",
    "converter = tf.lite.TFLiteConverter.from_keras_model(model)\n",
    "# NOTE: The current version of TensorFlow appears to break the model when using optimizations\n",
    "#    You can try uncommenting the following if you would like to generate a smaller size .tflite model\n",
    "# converter.optimizations = [tf.lite.Optimize.OPTIMIZE_FOR_SIZE]\n",
    "# converter.representative_dataset = representative_dataset_gen\n",
    "tflite_model = converter.convert()\n",
    "open(\"model.tflite\", \"wb\").write(tflite_model)"
   ]
  },
  {
   "cell_type": "code",
   "execution_count": 14,
   "metadata": {},
   "outputs": [
    {
     "name": "stdout",
     "output_type": "stream",
     "text": [
      "TFLite Accuracy: 0.9683\n"
     ]
    }
   ],
   "source": [
    "interpreter = tf.lite.Interpreter(model_path=\"model.tflite\")\n",
    "\n",
    "input_details = interpreter.get_input_details()\n",
    "output_details = interpreter.get_output_details()\n",
    "\n",
    "# Adjust the model interpreter to take 10,000 inputs at once instead of just 1\n",
    "interpreter.resize_tensor_input(input_details[0][\"index\"], (10000, 28*28))\n",
    "interpreter.resize_tensor_input(output_details[0][\"index\"], (10000, 10))\n",
    "interpreter.allocate_tensors()\n",
    "\n",
    "input_details = interpreter.get_input_details()\n",
    "output_details = interpreter.get_output_details()\n",
    "\n",
    "# Set the test input and run\n",
    "interpreter.set_tensor(input_details[0][\"index\"], x_test)\n",
    "interpreter.invoke()\n",
    "\n",
    "# Get the result and check its accuracy\n",
    "output_data = interpreter.get_tensor(output_details[0][\"index\"])\n",
    "\n",
    "a = [np.argmax(y, axis=None, out=None) for y in output_data]\n",
    "b = [np.argmax(y, axis=None, out=None) for y in y_test]\n",
    "\n",
    "accuracy = (np.array(a) == np.array(b)).mean()\n",
    "print(\"TFLite Accuracy:\", accuracy)"
   ]
  },
  {
   "cell_type": "code",
   "execution_count": 15,
   "metadata": {},
   "outputs": [
    {
     "data": {
      "text/plain": [
       "1271940"
      ]
     },
     "execution_count": 15,
     "metadata": {},
     "output_type": "execute_result"
    }
   ],
   "source": [
    "import binascii\n",
    "\n",
    "def convert_to_c_array(bytes) -> str:\n",
    "  hexstr = binascii.hexlify(bytes).decode(\"UTF-8\")\n",
    "  hexstr = hexstr.upper()\n",
    "  array = [\"0x\" + hexstr[i:i + 2] for i in range(0, len(hexstr), 2)]\n",
    "  array = [array[i:i+10] for i in range(0, len(array), 10)]\n",
    "  return \",\\n  \".join([\", \".join(e) for e in array])\n",
    "\n",
    "tflite_binary = open(\"model.tflite\", 'rb').read()\n",
    "ascii_bytes = convert_to_c_array(tflite_binary)\n",
    "c_file = \"const unsigned char tf_model[] = {\\n  \" + ascii_bytes + \"\\n};\\nunsigned int tf_model_len = \" + str(len(tflite_binary)) + \";\"\n",
    "# print(c_file)\n",
    "open(\"model.h\", \"w\").write(c_file)"
   ]
  },
  {
   "cell_type": "code",
   "execution_count": null,
   "metadata": {},
   "outputs": [],
   "source": []
  }
 ],
 "metadata": {
  "kernelspec": {
   "display_name": "Python 3",
   "language": "python",
   "name": "python3"
  },
  "language_info": {
   "codemirror_mode": {
    "name": "ipython",
    "version": 3
   },
   "file_extension": ".py",
   "mimetype": "text/x-python",
   "name": "python",
   "nbconvert_exporter": "python",
   "pygments_lexer": "ipython3",
   "version": "3.7.4"
  }
 },
 "nbformat": 4,
 "nbformat_minor": 4
}
